{
 "cells": [
  {
   "metadata": {},
   "cell_type": "code",
   "outputs": [],
   "execution_count": null,
   "source": [
    "# exercise 5.1.1\n",
    "import pandas as pd\n",
    "import numpy as np\n",
    "\n",
    "url = \"https://hastie.su.domains/ElemStatLearn/datasets/SAheart.data\"\n",
    "\n",
    "# Load the SAheart dataset\n",
    "df = pd.read_csv(url, index_col='row.names')\n",
    "\n",
    "\n",
    "# Convert binary text data to numbered categories\n",
    "df['famhist'] = pd.Categorical(df['famhist']).codes\n",
    "y=np.asarray(np.asmatrix(df[\"chd\"].values).T).squeeze()\n",
    "df = df.drop(columns=[\"chd\"])\n",
    "\n",
    "# Attribute names\n",
    "attributeNames = list(map(lambda x: x.capitalize(), df.columns.tolist()))\n",
    "\n",
    "\n",
    "\n",
    "# Attribute values"
   ],
   "id": "d9a10a6977754e16"
  },
  {
   "metadata": {},
   "cell_type": "code",
   "outputs": [],
   "execution_count": null,
   "source": [
    "\n",
    "X = df.to_numpy()\n",
    "N, M = X.shape\n"
   ],
   "id": "fd7a090a61cf9db"
  },
  {
   "metadata": {},
   "cell_type": "code",
   "outputs": [],
   "execution_count": null,
   "source": [
    "import matplotlib.pyplot as plt\n",
    "from sklearn import tree\n",
    "criterion = \"gini\"\n",
    "dtc = tree.DecisionTreeClassifier(criterion=criterion, min_samples_split=2)\n",
    "dtc = dtc.fit(X, y)\n",
    "\n",
    "# Visualize the graph (you can also inspect the generated image file in an external program)\n",
    "# NOTE: depending on your setup you may need to decrease or increase the figsize and DPI setting\n",
    "# to get a readable plot. Hint: Try to maximize the figure after it displays.\n",
    "fname = \"tree_ex512_\" + criterion + \".png\"\n",
    "\n",
    "fig = plt.figure(figsize=(100, 100), dpi=600)\n",
    "_ = tree.plot_tree(dtc, filled=False, feature_names=attributeNames)\n",
    "plt.savefig(fname, dpi=300, bbox_inches=\"tight\")\n",
    "plt.show()"
   ],
   "id": "3d5a4f53fa4b193a"
  },
  {
   "metadata": {},
   "cell_type": "code",
   "outputs": [],
   "execution_count": null,
   "source": "np.array(df['adiposity']).reshape(-1, 1)",
   "id": "c0813493e6b1f108"
  },
  {
   "metadata": {},
   "cell_type": "code",
   "outputs": [],
   "execution_count": null,
   "source": [
    "from sklearn import linear_model\n",
    "\n",
    "X = df[['sbp', 'tobacco', 'ldl', 'adiposity', 'famhist', 'alcohol', 'age']]\n",
    "y = df['typea']\n",
    "\n",
    "model = linear_model.LinearRegression()\n",
    "model = model.fit(X, y)\n",
    "\n",
    "y_est = model.predict(X)\n",
    "# Or equivalently:\n",
    "# y_est = model.intercept_ + X @ model.coef_\n",
    "\n",
    "\n",
    "# Plot original data and the model output\n",
    "f = plt.figure()\n",
    "\n",
    "##plt.plot(X, y_true)\n",
    "plt.plot(X, df['typea'], \".\")\n",
    "plt.plot(X, y_est, \"-\")\n",
    "plt.xlabel(\"X\")\n",
    "plt.ylabel(\"y\")\n",
    "plt.legend([\"Training data\", \"Regression fit (model)\"])\n",
    "\n",
    "plt.show()\n",
    "\n",
    "print(\"Ran Exercise 5.2.2\")\n",
    "\n"
   ],
   "id": "aa1d1e15d7c15da8"
  },
  {
   "metadata": {},
   "cell_type": "code",
   "outputs": [],
   "execution_count": null,
   "source": "",
   "id": "7fdffff5ef2c7a17"
  }
 ],
 "metadata": {
  "kernelspec": {
   "display_name": "Python 3",
   "language": "python",
   "name": "python3"
  },
  "language_info": {
   "codemirror_mode": {
    "name": "ipython",
    "version": 2
   },
   "file_extension": ".py",
   "mimetype": "text/x-python",
   "name": "python",
   "nbconvert_exporter": "python",
   "pygments_lexer": "ipython2",
   "version": "2.7.6"
  }
 },
 "nbformat": 4,
 "nbformat_minor": 5
}
